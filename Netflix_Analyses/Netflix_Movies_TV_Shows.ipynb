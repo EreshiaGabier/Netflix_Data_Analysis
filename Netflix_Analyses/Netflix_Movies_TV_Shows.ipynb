{
 "cells": [
  {
   "cell_type": "markdown",
   "id": "bc797eb1",
   "metadata": {},
   "source": [
    "# Python Review Presentation: Exploratory Data Analysis"
   ]
  },
  {
   "cell_type": "markdown",
   "id": "0010d03e",
   "metadata": {},
   "source": [
    "#### By Team 3: Idongesit Bokeime, Gavriel Leibovitz and Ereshia Gabier"
   ]
  },
  {
   "attachments": {
    "download.png": {
     "image/png": "[encoded data removed]"
    }
   },
   "cell_type": "markdown",
   "id": "88a29358",
   "metadata": {},
   "source": [
    "![download.png](attachment:download.png)"
   ]
  },
  {
   "cell_type": "markdown",
   "id": "262a6063",
   "metadata": {},
   "source": [
    "### Imported Data:    Netflix - TV shows and Movies\n",
    "\n",
    "This data set was created to list all shows available on Netflix streaming, and analyze the data to find interesting facts. This data was acquired in July 2022 containing data available in the United States.\n",
    "https://www.kaggle.com/datasets/victorsoeiro/netflix-tv-shows-and-movies"
   ]
  },
  {
   "cell_type": "markdown",
   "id": "7d8b67f9",
   "metadata": {},
   "source": [
    "### What we are set to do:\n",
    "\n",
    "+ Import useful libraries\n",
    "+ Import df and analyze its propoerties\n",
    "+ Explore and explain our data\n",
    "+ Draw conclusions\n",
    "    "
   ]
  },
  {
   "cell_type": "markdown",
   "id": "c54aa542",
   "metadata": {},
   "source": [
    "## Import Libraries"
   ]
  },
  {
   "cell_type": "code",
   "execution_count": 2,
   "id": "a367283f",
   "metadata": {},
   "outputs": [],
   "source": [
    "import numpy as np\n",
    "import pandas as pd\n",
    "import csv\n",
    "import seaborn as sns\n",
    "import matplotlib.pyplot as plt\n",
    "# Displays output inline\n",
    "%matplotlib inline"
   ]
  },
  {
   "cell_type": "markdown",
   "id": "76174680",
   "metadata": {},
   "source": [
    "## Import Dataset"
   ]
  },
  {
   "cell_type": "code",
   "execution_count": 3,
   "id": "ae65e498",
   "metadata": {},
   "outputs": [
    {
     "data": {
      "text/html": [
       "<div>\n",
       "<style scoped>\n",
       "    .dataframe tbody tr th:only-of-type {\n",
       "        vertical-align: middle;\n",
       "    }\n",
       "\n",
       "    .dataframe tbody tr th {\n",
       "        vertical-align: top;\n",
       "    }\n",
       "\n",
       "    .dataframe thead th {\n",
       "        text-align: right;\n",
       "    }\n",
       "</style>\n",
       "<table border=\"1\" class=\"dataframe\">\n",
       "  <thead>\n",
       "    <tr style=\"text-align: right;\">\n",
       "      <th></th>\n",
       "      <th>id</th>\n",
       "      <th>title</th>\n",
       "      <th>type</th>\n",
       "      <th>description</th>\n",
       "      <th>release_year</th>\n",
       "      <th>age_certification</th>\n",
       "      <th>runtime</th>\n",
       "      <th>genres</th>\n",
       "      <th>production_countries</th>\n",
       "      <th>seasons</th>\n",
       "      <th>imdb_id</th>\n",
       "      <th>imdb_score</th>\n",
       "      <th>imdb_votes</th>\n",
       "      <th>tmdb_popularity</th>\n",
       "      <th>tmdb_score</th>\n",
       "    </tr>\n",
       "  </thead>\n",
       "  <tbody>\n",
       "    <tr>\n",
       "      <th>0</th>\n",
       "      <td>ts300399</td>\n",
       "      <td>Five Came Back: The Reference Films</td>\n",
       "      <td>SHOW</td>\n",
       "      <td>This collection includes 12 World War II-era p...</td>\n",
       "      <td>1945</td>\n",
       "      <td>TV-MA</td>\n",
       "      <td>51</td>\n",
       "      <td>['documentation']</td>\n",
       "      <td>['US']</td>\n",
       "      <td>1.0</td>\n",
       "      <td>NaN</td>\n",
       "      <td>NaN</td>\n",
       "      <td>NaN</td>\n",
       "      <td>0.600</td>\n",
       "      <td>NaN</td>\n",
       "    </tr>\n",
       "    <tr>\n",
       "      <th>1</th>\n",
       "      <td>tm84618</td>\n",
       "      <td>Taxi Driver</td>\n",
       "      <td>MOVIE</td>\n",
       "      <td>A mentally unstable Vietnam War veteran works ...</td>\n",
       "      <td>1976</td>\n",
       "      <td>R</td>\n",
       "      <td>114</td>\n",
       "      <td>['drama', 'crime']</td>\n",
       "      <td>['US']</td>\n",
       "      <td>NaN</td>\n",
       "      <td>tt0075314</td>\n",
       "      <td>8.2</td>\n",
       "      <td>808582.0</td>\n",
       "      <td>40.965</td>\n",
       "      <td>8.179</td>\n",
       "    </tr>\n",
       "    <tr>\n",
       "      <th>2</th>\n",
       "      <td>tm154986</td>\n",
       "      <td>Deliverance</td>\n",
       "      <td>MOVIE</td>\n",
       "      <td>Intent on seeing the Cahulawassee River before...</td>\n",
       "      <td>1972</td>\n",
       "      <td>R</td>\n",
       "      <td>109</td>\n",
       "      <td>['drama', 'action', 'thriller', 'european']</td>\n",
       "      <td>['US']</td>\n",
       "      <td>NaN</td>\n",
       "      <td>tt0068473</td>\n",
       "      <td>7.7</td>\n",
       "      <td>107673.0</td>\n",
       "      <td>10.010</td>\n",
       "      <td>7.300</td>\n",
       "    </tr>\n",
       "    <tr>\n",
       "      <th>3</th>\n",
       "      <td>tm127384</td>\n",
       "      <td>Monty Python and the Holy Grail</td>\n",
       "      <td>MOVIE</td>\n",
       "      <td>King Arthur, accompanied by his squire, recrui...</td>\n",
       "      <td>1975</td>\n",
       "      <td>PG</td>\n",
       "      <td>91</td>\n",
       "      <td>['fantasy', 'action', 'comedy']</td>\n",
       "      <td>['GB']</td>\n",
       "      <td>NaN</td>\n",
       "      <td>tt0071853</td>\n",
       "      <td>8.2</td>\n",
       "      <td>534486.0</td>\n",
       "      <td>15.461</td>\n",
       "      <td>7.811</td>\n",
       "    </tr>\n",
       "    <tr>\n",
       "      <th>4</th>\n",
       "      <td>tm120801</td>\n",
       "      <td>The Dirty Dozen</td>\n",
       "      <td>MOVIE</td>\n",
       "      <td>12 American military prisoners in World War II...</td>\n",
       "      <td>1967</td>\n",
       "      <td>NaN</td>\n",
       "      <td>150</td>\n",
       "      <td>['war', 'action']</td>\n",
       "      <td>['GB', 'US']</td>\n",
       "      <td>NaN</td>\n",
       "      <td>tt0061578</td>\n",
       "      <td>7.7</td>\n",
       "      <td>72662.0</td>\n",
       "      <td>20.398</td>\n",
       "      <td>7.600</td>\n",
       "    </tr>\n",
       "  </tbody>\n",
       "</table>\n",
       "</div>"
      ],
      "text/plain": [
       "         id                                title   type  \\\n",
       "0  ts300399  Five Came Back: The Reference Films   SHOW   \n",
       "1   tm84618                          Taxi Driver  MOVIE   \n",
       "2  tm154986                          Deliverance  MOVIE   \n",
       "3  tm127384      Monty Python and the Holy Grail  MOVIE   \n",
       "4  tm120801                      The Dirty Dozen  MOVIE   \n",
       "\n",
       "                                         description  release_year  \\\n",
       "0  This collection includes 12 World War II-era p...          1945   \n",
       "1  A mentally unstable Vietnam War veteran works ...          1976   \n",
       "2  Intent on seeing the Cahulawassee River before...          1972   \n",
       "3  King Arthur, accompanied by his squire, recrui...          1975   \n",
       "4  12 American military prisoners in World War II...          1967   \n",
       "\n",
       "  age_certification  runtime                                       genres  \\\n",
       "0             TV-MA       51                            ['documentation']   \n",
       "1                 R      114                           ['drama', 'crime']   \n",
       "2                 R      109  ['drama', 'action', 'thriller', 'european']   \n",
       "3                PG       91              ['fantasy', 'action', 'comedy']   \n",
       "4               NaN      150                            ['war', 'action']   \n",
       "\n",
       "  production_countries  seasons    imdb_id  imdb_score  imdb_votes  \\\n",
       "0               ['US']      1.0        NaN         NaN         NaN   \n",
       "1               ['US']      NaN  tt0075314         8.2    808582.0   \n",
       "2               ['US']      NaN  tt0068473         7.7    107673.0   \n",
       "3               ['GB']      NaN  tt0071853         8.2    534486.0   \n",
       "4         ['GB', 'US']      NaN  tt0061578         7.7     72662.0   \n",
       "\n",
       "   tmdb_popularity  tmdb_score  \n",
       "0            0.600         NaN  \n",
       "1           40.965       8.179  \n",
       "2           10.010       7.300  \n",
       "3           15.461       7.811  \n",
       "4           20.398       7.600  "
      ]
     },
     "execution_count": 3,
     "metadata": {},
     "output_type": "execute_result"
    }
   ],
   "source": [
    "titles_import = pd.read_csv(\"/Users/ereshiagabier/Documents/EDSA_Athena/Sprint_3 - Python/Python_Presentation/titles.csv\")\n",
    "titles_import.head() #function to pull top 5 rows of our dataset"
   ]
  },
  {
   "cell_type": "markdown",
   "id": "3c36f830",
   "metadata": {},
   "source": [
    "## Summary of the Dataset "
   ]
  },
  {
   "cell_type": "code",
   "execution_count": 9,
   "id": "df10cfc8",
   "metadata": {},
   "outputs": [
    {
     "data": {
      "text/plain": [
       "(5850, 15)"
      ]
     },
     "execution_count": 9,
     "metadata": {},
     "output_type": "execute_result"
    }
   ],
   "source": [
    "titles_import.shape #indicates the tuple of rows and columns"
   ]
  },
  {
   "cell_type": "code",
   "execution_count": 10,
   "id": "65de4562",
   "metadata": {},
   "outputs": [
    {
     "name": "stdout",
     "output_type": "stream",
     "text": [
      "<class 'pandas.core.frame.DataFrame'>\n",
      "RangeIndex: 5850 entries, 0 to 5849\n",
      "Data columns (total 15 columns):\n",
      " #   Column                Non-Null Count  Dtype  \n",
      "---  ------                --------------  -----  \n",
      " 0   id                    5850 non-null   object \n",
      " 1   title                 5849 non-null   object \n",
      " 2   type                  5850 non-null   object \n",
      " 3   description           5832 non-null   object \n",
      " 4   release_year          5850 non-null   int64  \n",
      " 5   age_certification     3231 non-null   object \n",
      " 6   runtime               5850 non-null   int64  \n",
      " 7   genres                5850 non-null   object \n",
      " 8   production_countries  5850 non-null   object \n",
      " 9   seasons               2106 non-null   float64\n",
      " 10  imdb_id               5447 non-null   object \n",
      " 11  imdb_score            5368 non-null   float64\n",
      " 12  imdb_votes            5352 non-null   float64\n",
      " 13  tmdb_popularity       5759 non-null   float64\n",
      " 14  tmdb_score            5539 non-null   float64\n",
      "dtypes: float64(5), int64(2), object(8)\n",
      "memory usage: 685.7+ KB\n"
     ]
    }
   ],
   "source": [
    "titles_import.info()"
   ]
  },
  {
   "cell_type": "code",
   "execution_count": 11,
   "id": "1d7ebb5d",
   "metadata": {},
   "outputs": [
    {
     "data": {
      "text/plain": [
       "0"
      ]
     },
     "execution_count": 11,
     "metadata": {},
     "output_type": "execute_result"
    }
   ],
   "source": [
    "titles_import.duplicated().sum()"
   ]
  },
  {
   "cell_type": "code",
   "execution_count": 12,
   "id": "e4916bbe",
   "metadata": {},
   "outputs": [
    {
     "data": {
      "text/plain": [
       "id                         0\n",
       "title                      1\n",
       "type                       0\n",
       "description               18\n",
       "release_year               0\n",
       "age_certification       2619\n",
       "runtime                    0\n",
       "genres                     0\n",
       "production_countries       0\n",
       "seasons                 3744\n",
       "imdb_id                  403\n",
       "imdb_score               482\n",
       "imdb_votes               498\n",
       "tmdb_popularity           91\n",
       "tmdb_score               311\n",
       "dtype: int64"
      ]
     },
     "execution_count": 12,
     "metadata": {},
     "output_type": "execute_result"
    }
   ],
   "source": [
    "titles_import.isnull().sum()"
   ]
  },
  {
   "cell_type": "code",
   "execution_count": 4,
   "id": "8b24bb95",
   "metadata": {},
   "outputs": [
    {
     "data": {
      "text/html": [
       "<div>\n",
       "<style scoped>\n",
       "    .dataframe tbody tr th:only-of-type {\n",
       "        vertical-align: middle;\n",
       "    }\n",
       "\n",
       "    .dataframe tbody tr th {\n",
       "        vertical-align: top;\n",
       "    }\n",
       "\n",
       "    .dataframe thead th {\n",
       "        text-align: right;\n",
       "    }\n",
       "</style>\n",
       "<table border=\"1\" class=\"dataframe\">\n",
       "  <thead>\n",
       "    <tr style=\"text-align: right;\">\n",
       "      <th></th>\n",
       "      <th>release_year</th>\n",
       "      <th>runtime</th>\n",
       "      <th>seasons</th>\n",
       "      <th>imdb_score</th>\n",
       "      <th>imdb_votes</th>\n",
       "      <th>tmdb_popularity</th>\n",
       "      <th>tmdb_score</th>\n",
       "    </tr>\n",
       "  </thead>\n",
       "  <tbody>\n",
       "    <tr>\n",
       "      <th>count</th>\n",
       "      <td>5850.00</td>\n",
       "      <td>5850.00</td>\n",
       "      <td>2106.00</td>\n",
       "      <td>5368.00</td>\n",
       "      <td>5352.00</td>\n",
       "      <td>5759.00</td>\n",
       "      <td>5539.00</td>\n",
       "    </tr>\n",
       "    <tr>\n",
       "      <th>mean</th>\n",
       "      <td>2016.42</td>\n",
       "      <td>76.89</td>\n",
       "      <td>2.16</td>\n",
       "      <td>6.51</td>\n",
       "      <td>23439.38</td>\n",
       "      <td>22.64</td>\n",
       "      <td>6.83</td>\n",
       "    </tr>\n",
       "    <tr>\n",
       "      <th>std</th>\n",
       "      <td>6.94</td>\n",
       "      <td>39.00</td>\n",
       "      <td>2.69</td>\n",
       "      <td>1.16</td>\n",
       "      <td>95820.47</td>\n",
       "      <td>81.68</td>\n",
       "      <td>1.17</td>\n",
       "    </tr>\n",
       "    <tr>\n",
       "      <th>min</th>\n",
       "      <td>1945.00</td>\n",
       "      <td>0.00</td>\n",
       "      <td>1.00</td>\n",
       "      <td>1.50</td>\n",
       "      <td>5.00</td>\n",
       "      <td>0.01</td>\n",
       "      <td>0.50</td>\n",
       "    </tr>\n",
       "    <tr>\n",
       "      <th>25%</th>\n",
       "      <td>2016.00</td>\n",
       "      <td>44.00</td>\n",
       "      <td>1.00</td>\n",
       "      <td>5.80</td>\n",
       "      <td>516.75</td>\n",
       "      <td>2.73</td>\n",
       "      <td>6.10</td>\n",
       "    </tr>\n",
       "    <tr>\n",
       "      <th>50%</th>\n",
       "      <td>2018.00</td>\n",
       "      <td>83.00</td>\n",
       "      <td>1.00</td>\n",
       "      <td>6.60</td>\n",
       "      <td>2233.50</td>\n",
       "      <td>6.82</td>\n",
       "      <td>6.90</td>\n",
       "    </tr>\n",
       "    <tr>\n",
       "      <th>75%</th>\n",
       "      <td>2020.00</td>\n",
       "      <td>104.00</td>\n",
       "      <td>2.00</td>\n",
       "      <td>7.30</td>\n",
       "      <td>9494.00</td>\n",
       "      <td>16.59</td>\n",
       "      <td>7.54</td>\n",
       "    </tr>\n",
       "    <tr>\n",
       "      <th>max</th>\n",
       "      <td>2022.00</td>\n",
       "      <td>240.00</td>\n",
       "      <td>42.00</td>\n",
       "      <td>9.60</td>\n",
       "      <td>2294231.00</td>\n",
       "      <td>2274.04</td>\n",
       "      <td>10.00</td>\n",
       "    </tr>\n",
       "  </tbody>\n",
       "</table>\n",
       "</div>"
      ],
      "text/plain": [
       "       release_year  runtime  seasons  imdb_score  imdb_votes  \\\n",
       "count       5850.00  5850.00  2106.00     5368.00     5352.00   \n",
       "mean        2016.42    76.89     2.16        6.51    23439.38   \n",
       "std            6.94    39.00     2.69        1.16    95820.47   \n",
       "min         1945.00     0.00     1.00        1.50        5.00   \n",
       "25%         2016.00    44.00     1.00        5.80      516.75   \n",
       "50%         2018.00    83.00     1.00        6.60     2233.50   \n",
       "75%         2020.00   104.00     2.00        7.30     9494.00   \n",
       "max         2022.00   240.00    42.00        9.60  2294231.00   \n",
       "\n",
       "       tmdb_popularity  tmdb_score  \n",
       "count          5759.00     5539.00  \n",
       "mean             22.64        6.83  \n",
       "std              81.68        1.17  \n",
       "min               0.01        0.50  \n",
       "25%               2.73        6.10  \n",
       "50%               6.82        6.90  \n",
       "75%              16.59        7.54  \n",
       "max            2274.04       10.00  "
      ]
     },
     "execution_count": 4,
     "metadata": {},
     "output_type": "execute_result"
    }
   ],
   "source": [
    "titles_import.describe().round(2)"
   ]
  },
  {
   "cell_type": "markdown",
   "id": "b193b4aa",
   "metadata": {},
   "source": [
    "## Data Manipulation"
   ]
  },
  {
   "cell_type": "code",
   "execution_count": 5,
   "id": "0d37e89c",
   "metadata": {},
   "outputs": [
    {
     "data": {
      "text/html": [
       "<div>\n",
       "<style scoped>\n",
       "    .dataframe tbody tr th:only-of-type {\n",
       "        vertical-align: middle;\n",
       "    }\n",
       "\n",
       "    .dataframe tbody tr th {\n",
       "        vertical-align: top;\n",
       "    }\n",
       "\n",
       "    .dataframe thead th {\n",
       "        text-align: right;\n",
       "    }\n",
       "</style>\n",
       "<table border=\"1\" class=\"dataframe\">\n",
       "  <thead>\n",
       "    <tr style=\"text-align: right;\">\n",
       "      <th></th>\n",
       "      <th>id</th>\n",
       "      <th>title</th>\n",
       "      <th>type</th>\n",
       "      <th>description</th>\n",
       "      <th>release_year</th>\n",
       "      <th>age_certification</th>\n",
       "      <th>runtime</th>\n",
       "      <th>genres</th>\n",
       "      <th>production_countries</th>\n",
       "      <th>seasons</th>\n",
       "      <th>imdb_id</th>\n",
       "      <th>imdb_score</th>\n",
       "      <th>imdb_votes</th>\n",
       "      <th>tmdb_popularity</th>\n",
       "      <th>tmdb_score</th>\n",
       "    </tr>\n",
       "  </thead>\n",
       "  <tbody>\n",
       "    <tr>\n",
       "      <th>5390</th>\n",
       "      <td>ts319464</td>\n",
       "      <td>Storybots Laugh Learn Sing</td>\n",
       "      <td>SHOW</td>\n",
       "      <td>Learn along with Beep, Boop, Bing, Bang, and B...</td>\n",
       "      <td>2021</td>\n",
       "      <td>NaN</td>\n",
       "      <td>0</td>\n",
       "      <td>['family', 'animation']</td>\n",
       "      <td>[]</td>\n",
       "      <td>1.0</td>\n",
       "      <td>tt15717742</td>\n",
       "      <td>NaN</td>\n",
       "      <td>NaN</td>\n",
       "      <td>0.695</td>\n",
       "      <td>NaN</td>\n",
       "    </tr>\n",
       "    <tr>\n",
       "      <th>594</th>\n",
       "      <td>ts188031</td>\n",
       "      <td>Pink Zone</td>\n",
       "      <td>SHOW</td>\n",
       "      <td>Is the story of four friends: Natalia, Angélic...</td>\n",
       "      <td>2007</td>\n",
       "      <td>NaN</td>\n",
       "      <td>0</td>\n",
       "      <td>['drama', 'romance', 'comedy']</td>\n",
       "      <td>['MX']</td>\n",
       "      <td>1.0</td>\n",
       "      <td>tt11194518</td>\n",
       "      <td>5.8</td>\n",
       "      <td>52.0</td>\n",
       "      <td>0.682</td>\n",
       "      <td>10.0</td>\n",
       "    </tr>\n",
       "    <tr>\n",
       "      <th>4394</th>\n",
       "      <td>ts224261</td>\n",
       "      <td>Nailed It! Germany</td>\n",
       "      <td>SHOW</td>\n",
       "      <td>Home cooks try -- and inevitably fail -- to re...</td>\n",
       "      <td>2020</td>\n",
       "      <td>TV-14</td>\n",
       "      <td>0</td>\n",
       "      <td>['reality']</td>\n",
       "      <td>['DE']</td>\n",
       "      <td>1.0</td>\n",
       "      <td>tt11460744</td>\n",
       "      <td>5.7</td>\n",
       "      <td>102.0</td>\n",
       "      <td>2.157</td>\n",
       "      <td>10.0</td>\n",
       "    </tr>\n",
       "    <tr>\n",
       "      <th>4680</th>\n",
       "      <td>ts223454</td>\n",
       "      <td>นางสาวก้นครัว</td>\n",
       "      <td>SHOW</td>\n",
       "      <td>\"Miss Culinary\" reveals the brilliance of a yo...</td>\n",
       "      <td>2019</td>\n",
       "      <td>TV-14</td>\n",
       "      <td>0</td>\n",
       "      <td>[]</td>\n",
       "      <td>['TH']</td>\n",
       "      <td>1.0</td>\n",
       "      <td>NaN</td>\n",
       "      <td>NaN</td>\n",
       "      <td>NaN</td>\n",
       "      <td>2.431</td>\n",
       "      <td>8.0</td>\n",
       "    </tr>\n",
       "    <tr>\n",
       "      <th>5515</th>\n",
       "      <td>ts331654</td>\n",
       "      <td>Pedal to Metal</td>\n",
       "      <td>SHOW</td>\n",
       "      <td>After a race they drive in ends fatally, frien...</td>\n",
       "      <td>2022</td>\n",
       "      <td>TV-MA</td>\n",
       "      <td>0</td>\n",
       "      <td>['drama', 'action', 'thriller', 'crime']</td>\n",
       "      <td>['MX']</td>\n",
       "      <td>1.0</td>\n",
       "      <td>tt18568732</td>\n",
       "      <td>7.7</td>\n",
       "      <td>59.0</td>\n",
       "      <td>5.668</td>\n",
       "      <td>6.6</td>\n",
       "    </tr>\n",
       "  </tbody>\n",
       "</table>\n",
       "</div>"
      ],
      "text/plain": [
       "            id                       title  type  \\\n",
       "5390  ts319464  Storybots Laugh Learn Sing  SHOW   \n",
       "594   ts188031                   Pink Zone  SHOW   \n",
       "4394  ts224261          Nailed It! Germany  SHOW   \n",
       "4680  ts223454               นางสาวก้นครัว  SHOW   \n",
       "5515  ts331654              Pedal to Metal  SHOW   \n",
       "\n",
       "                                            description  release_year  \\\n",
       "5390  Learn along with Beep, Boop, Bing, Bang, and B...          2021   \n",
       "594   Is the story of four friends: Natalia, Angélic...          2007   \n",
       "4394  Home cooks try -- and inevitably fail -- to re...          2020   \n",
       "4680  \"Miss Culinary\" reveals the brilliance of a yo...          2019   \n",
       "5515  After a race they drive in ends fatally, frien...          2022   \n",
       "\n",
       "     age_certification  runtime                                    genres  \\\n",
       "5390               NaN        0                   ['family', 'animation']   \n",
       "594                NaN        0            ['drama', 'romance', 'comedy']   \n",
       "4394             TV-14        0                               ['reality']   \n",
       "4680             TV-14        0                                        []   \n",
       "5515             TV-MA        0  ['drama', 'action', 'thriller', 'crime']   \n",
       "\n",
       "     production_countries  seasons     imdb_id  imdb_score  imdb_votes  \\\n",
       "5390                   []      1.0  tt15717742         NaN         NaN   \n",
       "594                ['MX']      1.0  tt11194518         5.8        52.0   \n",
       "4394               ['DE']      1.0  tt11460744         5.7       102.0   \n",
       "4680               ['TH']      1.0         NaN         NaN         NaN   \n",
       "5515               ['MX']      1.0  tt18568732         7.7        59.0   \n",
       "\n",
       "      tmdb_popularity  tmdb_score  \n",
       "5390            0.695         NaN  \n",
       "594             0.682        10.0  \n",
       "4394            2.157        10.0  \n",
       "4680            2.431         8.0  \n",
       "5515            5.668         6.6  "
      ]
     },
     "execution_count": 5,
     "metadata": {},
     "output_type": "execute_result"
    }
   ],
   "source": [
    "titles_import = titles_import.sort_values('runtime', ascending=True)\n",
    "titles_import.head(5)"
   ]
  },
  {
   "cell_type": "code",
   "execution_count": 6,
   "id": "311159a5",
   "metadata": {},
   "outputs": [
    {
     "data": {
      "text/plain": [
       "array([  0,   0,   0, ..., 224, 225, 240])"
      ]
     },
     "execution_count": 6,
     "metadata": {},
     "output_type": "execute_result"
    }
   ],
   "source": [
    "titles_import['runtime'].values"
   ]
  },
  {
   "cell_type": "code",
   "execution_count": 7,
   "id": "f9747c21",
   "metadata": {},
   "outputs": [
    {
     "data": {
      "text/html": [
       "<div>\n",
       "<style scoped>\n",
       "    .dataframe tbody tr th:only-of-type {\n",
       "        vertical-align: middle;\n",
       "    }\n",
       "\n",
       "    .dataframe tbody tr th {\n",
       "        vertical-align: top;\n",
       "    }\n",
       "\n",
       "    .dataframe thead th {\n",
       "        text-align: right;\n",
       "    }\n",
       "</style>\n",
       "<table border=\"1\" class=\"dataframe\">\n",
       "  <thead>\n",
       "    <tr style=\"text-align: right;\">\n",
       "      <th></th>\n",
       "      <th>id</th>\n",
       "      <th>title</th>\n",
       "      <th>type</th>\n",
       "      <th>description</th>\n",
       "      <th>release_year</th>\n",
       "      <th>runtime</th>\n",
       "      <th>genres</th>\n",
       "      <th>production_countries</th>\n",
       "      <th>imdb_id</th>\n",
       "      <th>imdb_score</th>\n",
       "    </tr>\n",
       "  </thead>\n",
       "  <tbody>\n",
       "    <tr>\n",
       "      <th>5390</th>\n",
       "      <td>ts319464</td>\n",
       "      <td>Storybots Laugh Learn Sing</td>\n",
       "      <td>SHOW</td>\n",
       "      <td>Learn along with Beep, Boop, Bing, Bang, and B...</td>\n",
       "      <td>2021</td>\n",
       "      <td>0</td>\n",
       "      <td>['family', 'animation']</td>\n",
       "      <td>[]</td>\n",
       "      <td>tt15717742</td>\n",
       "      <td>NaN</td>\n",
       "    </tr>\n",
       "    <tr>\n",
       "      <th>594</th>\n",
       "      <td>ts188031</td>\n",
       "      <td>Pink Zone</td>\n",
       "      <td>SHOW</td>\n",
       "      <td>Is the story of four friends: Natalia, Angélic...</td>\n",
       "      <td>2007</td>\n",
       "      <td>0</td>\n",
       "      <td>['drama', 'romance', 'comedy']</td>\n",
       "      <td>['MX']</td>\n",
       "      <td>tt11194518</td>\n",
       "      <td>5.8</td>\n",
       "    </tr>\n",
       "    <tr>\n",
       "      <th>4394</th>\n",
       "      <td>ts224261</td>\n",
       "      <td>Nailed It! Germany</td>\n",
       "      <td>SHOW</td>\n",
       "      <td>Home cooks try -- and inevitably fail -- to re...</td>\n",
       "      <td>2020</td>\n",
       "      <td>0</td>\n",
       "      <td>['reality']</td>\n",
       "      <td>['DE']</td>\n",
       "      <td>tt11460744</td>\n",
       "      <td>5.7</td>\n",
       "    </tr>\n",
       "    <tr>\n",
       "      <th>4680</th>\n",
       "      <td>ts223454</td>\n",
       "      <td>นางสาวก้นครัว</td>\n",
       "      <td>SHOW</td>\n",
       "      <td>\"Miss Culinary\" reveals the brilliance of a yo...</td>\n",
       "      <td>2019</td>\n",
       "      <td>0</td>\n",
       "      <td>[]</td>\n",
       "      <td>['TH']</td>\n",
       "      <td>NaN</td>\n",
       "      <td>NaN</td>\n",
       "    </tr>\n",
       "    <tr>\n",
       "      <th>5515</th>\n",
       "      <td>ts331654</td>\n",
       "      <td>Pedal to Metal</td>\n",
       "      <td>SHOW</td>\n",
       "      <td>After a race they drive in ends fatally, frien...</td>\n",
       "      <td>2022</td>\n",
       "      <td>0</td>\n",
       "      <td>['drama', 'action', 'thriller', 'crime']</td>\n",
       "      <td>['MX']</td>\n",
       "      <td>tt18568732</td>\n",
       "      <td>7.7</td>\n",
       "    </tr>\n",
       "  </tbody>\n",
       "</table>\n",
       "</div>"
      ],
      "text/plain": [
       "            id                       title  type  \\\n",
       "5390  ts319464  Storybots Laugh Learn Sing  SHOW   \n",
       "594   ts188031                   Pink Zone  SHOW   \n",
       "4394  ts224261          Nailed It! Germany  SHOW   \n",
       "4680  ts223454               นางสาวก้นครัว  SHOW   \n",
       "5515  ts331654              Pedal to Metal  SHOW   \n",
       "\n",
       "                                            description  release_year  \\\n",
       "5390  Learn along with Beep, Boop, Bing, Bang, and B...          2021   \n",
       "594   Is the story of four friends: Natalia, Angélic...          2007   \n",
       "4394  Home cooks try -- and inevitably fail -- to re...          2020   \n",
       "4680  \"Miss Culinary\" reveals the brilliance of a yo...          2019   \n",
       "5515  After a race they drive in ends fatally, frien...          2022   \n",
       "\n",
       "      runtime                                    genres production_countries  \\\n",
       "5390        0                   ['family', 'animation']                   []   \n",
       "594         0            ['drama', 'romance', 'comedy']               ['MX']   \n",
       "4394        0                               ['reality']               ['DE']   \n",
       "4680        0                                        []               ['TH']   \n",
       "5515        0  ['drama', 'action', 'thriller', 'crime']               ['MX']   \n",
       "\n",
       "         imdb_id  imdb_score  \n",
       "5390  tt15717742         NaN  \n",
       "594   tt11194518         5.8  \n",
       "4394  tt11460744         5.7  \n",
       "4680         NaN         NaN  \n",
       "5515  tt18568732         7.7  "
      ]
     },
     "execution_count": 7,
     "metadata": {},
     "output_type": "execute_result"
    }
   ],
   "source": [
    "'''Creating our desired columns for investigation by slicing my DataFrame'''\n",
    "titles_import = titles_import.drop(['age_certification', 'seasons', 'imdb_votes', 'tmdb_popularity', 'tmdb_score'], axis = 1)\n",
    "titles_import.head() "
   ]
  },
  {
   "cell_type": "code",
   "execution_count": 9,
   "id": "c9719bd9",
   "metadata": {},
   "outputs": [
    {
     "data": {
      "text/html": [
       "<div>\n",
       "<style scoped>\n",
       "    .dataframe tbody tr th:only-of-type {\n",
       "        vertical-align: middle;\n",
       "    }\n",
       "\n",
       "    .dataframe tbody tr th {\n",
       "        vertical-align: top;\n",
       "    }\n",
       "\n",
       "    .dataframe thead th {\n",
       "        text-align: right;\n",
       "    }\n",
       "</style>\n",
       "<table border=\"1\" class=\"dataframe\">\n",
       "  <thead>\n",
       "    <tr style=\"text-align: right;\">\n",
       "      <th></th>\n",
       "      <th>id</th>\n",
       "      <th>title</th>\n",
       "      <th>type</th>\n",
       "      <th>description</th>\n",
       "      <th>release_year</th>\n",
       "      <th>runtime</th>\n",
       "      <th>genres</th>\n",
       "      <th>production_countries</th>\n",
       "      <th>imdb_id</th>\n",
       "      <th>imdb_score</th>\n",
       "    </tr>\n",
       "  </thead>\n",
       "  <tbody>\n",
       "    <tr>\n",
       "      <th>3824</th>\n",
       "      <td>ts269844</td>\n",
       "      <td>Paava Kadhaigal</td>\n",
       "      <td>SHOW</td>\n",
       "      <td>At times dark, at times disturbing, four short...</td>\n",
       "      <td>2020</td>\n",
       "      <td>37</td>\n",
       "      <td>['drama', 'family']</td>\n",
       "      <td>['IN']</td>\n",
       "      <td>tt13206988</td>\n",
       "      <td>8.1</td>\n",
       "    </tr>\n",
       "    <tr>\n",
       "      <th>3562</th>\n",
       "      <td>ts226588</td>\n",
       "      <td>100 Humans: Life's Questions. Answered.</td>\n",
       "      <td>SHOW</td>\n",
       "      <td>One hundred hardy souls from diverse backgroun...</td>\n",
       "      <td>2020</td>\n",
       "      <td>37</td>\n",
       "      <td>['documentation', 'reality']</td>\n",
       "      <td>['US']</td>\n",
       "      <td>tt11823088</td>\n",
       "      <td>5.7</td>\n",
       "    </tr>\n",
       "    <tr>\n",
       "      <th>5080</th>\n",
       "      <td>ts271025</td>\n",
       "      <td>Bling Empire</td>\n",
       "      <td>SHOW</td>\n",
       "      <td>Follow LA's wildly wealthy Asian and Asian Ame...</td>\n",
       "      <td>2021</td>\n",
       "      <td>37</td>\n",
       "      <td>['reality']</td>\n",
       "      <td>['US']</td>\n",
       "      <td>tt13660962</td>\n",
       "      <td>5.8</td>\n",
       "    </tr>\n",
       "    <tr>\n",
       "      <th>3656</th>\n",
       "      <td>ts236033</td>\n",
       "      <td>#blackAF</td>\n",
       "      <td>SHOW</td>\n",
       "      <td>A father takes an irreverent and honest approa...</td>\n",
       "      <td>2020</td>\n",
       "      <td>37</td>\n",
       "      <td>['comedy']</td>\n",
       "      <td>['US']</td>\n",
       "      <td>NaN</td>\n",
       "      <td>NaN</td>\n",
       "    </tr>\n",
       "    <tr>\n",
       "      <th>5130</th>\n",
       "      <td>ts288195</td>\n",
       "      <td>Invisible City</td>\n",
       "      <td>SHOW</td>\n",
       "      <td>An environmental police officer uncovers a hid...</td>\n",
       "      <td>2021</td>\n",
       "      <td>37</td>\n",
       "      <td>['thriller', 'drama', 'crime', 'fantasy']</td>\n",
       "      <td>['BR']</td>\n",
       "      <td>tt8878862</td>\n",
       "      <td>7.7</td>\n",
       "    </tr>\n",
       "  </tbody>\n",
       "</table>\n",
       "</div>"
      ],
      "text/plain": [
       "            id                                    title  type  \\\n",
       "3824  ts269844                          Paava Kadhaigal  SHOW   \n",
       "3562  ts226588  100 Humans: Life's Questions. Answered.  SHOW   \n",
       "5080  ts271025                             Bling Empire  SHOW   \n",
       "3656  ts236033                                 #blackAF  SHOW   \n",
       "5130  ts288195                           Invisible City  SHOW   \n",
       "\n",
       "                                            description  release_year  \\\n",
       "3824  At times dark, at times disturbing, four short...          2020   \n",
       "3562  One hundred hardy souls from diverse backgroun...          2020   \n",
       "5080  Follow LA's wildly wealthy Asian and Asian Ame...          2021   \n",
       "3656  A father takes an irreverent and honest approa...          2020   \n",
       "5130  An environmental police officer uncovers a hid...          2021   \n",
       "\n",
       "      runtime                                     genres production_countries  \\\n",
       "3824       37                        ['drama', 'family']               ['IN']   \n",
       "3562       37               ['documentation', 'reality']               ['US']   \n",
       "5080       37                                ['reality']               ['US']   \n",
       "3656       37                                 ['comedy']               ['US']   \n",
       "5130       37  ['thriller', 'drama', 'crime', 'fantasy']               ['BR']   \n",
       "\n",
       "         imdb_id  imdb_score  \n",
       "3824  tt13206988         8.1  \n",
       "3562  tt11823088         5.7  \n",
       "5080  tt13660962         5.8  \n",
       "3656         NaN         NaN  \n",
       "5130   tt8878862         7.7  "
      ]
     },
     "execution_count": 9,
     "metadata": {},
     "output_type": "execute_result"
    }
   ],
   "source": [
    "'''Sorting and Filtering using Pandas DataFrame'''\n",
    "df = titles_import.sort_values('runtime')\n",
    "my_selection = df[(df['runtime'] > 36) & (df['runtime'] <= 116)] # Movies and shows with runtime between 36 mins to 116 mins.\n",
    "my_selection.head(5)"
   ]
  },
  {
   "cell_type": "code",
   "execution_count": 10,
   "id": "f78efe62",
   "metadata": {},
   "outputs": [
    {
     "data": {
      "text/plain": [
       "(3877, 10)"
      ]
     },
     "execution_count": 10,
     "metadata": {},
     "output_type": "execute_result"
    }
   ],
   "source": [
    "my_selection.shape"
   ]
  },
  {
   "cell_type": "code",
   "execution_count": 11,
   "id": "4b027004",
   "metadata": {},
   "outputs": [],
   "source": [
    "# We also made another drop as follows: \n",
    "my_final_selection = my_selection.dropna(subset=['imdb_score'])\n",
    "# creating a new dataframe without the nulls in row tmdb_score."
   ]
  },
  {
   "cell_type": "code",
   "execution_count": 12,
   "id": "6e8797b2",
   "metadata": {},
   "outputs": [
    {
     "data": {
      "text/plain": [
       "id                      0\n",
       "title                   0\n",
       "type                    0\n",
       "description             4\n",
       "release_year            0\n",
       "runtime                 0\n",
       "genres                  0\n",
       "production_countries    0\n",
       "imdb_id                 0\n",
       "imdb_score              0\n",
       "dtype: int64"
      ]
     },
     "execution_count": 12,
     "metadata": {},
     "output_type": "execute_result"
    }
   ],
   "source": [
    "# Recheck our shape \n",
    "my_final_selection.isnull().sum()"
   ]
  },
  {
   "cell_type": "code",
   "execution_count": 13,
   "id": "3a4482fb",
   "metadata": {},
   "outputs": [
    {
     "data": {
      "text/plain": [
       "(3600, 10)"
      ]
     },
     "execution_count": 13,
     "metadata": {},
     "output_type": "execute_result"
    }
   ],
   "source": [
    "my_final_selection.shape"
   ]
  },
  {
   "cell_type": "code",
   "execution_count": null,
   "id": "ec95a2c9",
   "metadata": {},
   "outputs": [],
   "source": [
    "# df.to_csv(r'C:\\Users\\HP\\Desktop\\short1_runtime_titles.csv', index = False, header = True) "
   ]
  },
  {
   "cell_type": "markdown",
   "id": "38ff4e77",
   "metadata": {},
   "source": [
    "## Data Visualisation"
   ]
  },
  {
   "cell_type": "code",
   "execution_count": 14,
   "id": "bac3b815",
   "metadata": {},
   "outputs": [
    {
     "data": {
      "text/plain": [
       "MOVIE    2708\n",
       "SHOW     1169\n",
       "Name: type, dtype: int64"
      ]
     },
     "execution_count": 14,
     "metadata": {},
     "output_type": "execute_result"
    }
   ],
   "source": [
    "type_count = my_selection.type.value_counts()\n",
    "type_count.head()"
   ]
  },
  {
   "cell_type": "code",
   "execution_count": 15,
   "id": "9bbd7570",
   "metadata": {},
   "outputs": [
    {
     "data": {
      "image/png": "[encoded data removed]",
      "text/plain": [
       "<Figure size 432x288 with 1 Axes>"
      ]
     },
     "metadata": {
      "needs_background": "light"
     },
     "output_type": "display_data"
    }
   ],
   "source": [
    "#b = sns.barplot(data=df[(df['runtime'] > 30) & (df['runtime'] <= 60)], x='type', y='type')\n",
    "#sns.countplot(data=df[(df['runtime'] > 36) & (df['runtime'] <= 116)], x='type', order=df.type.value_counts().index)\n",
    "sns.countplot(data=my_final_selection, x='type', order=df.type.value_counts().index)\n",
    "plt.title('Comparing Netflix Media Types for Run Time betweem 36mins and 116mins ', y=1.1)\n",
    "plt.show()"
   ]
  },
  {
   "cell_type": "markdown",
   "id": "fc4c86fd",
   "metadata": {},
   "source": [
    "### Analysis  \n",
    "\n",
    "From the graph, we can see that we have more movies on Netflix Titles than show.  Invariably, you are also more likely to get a good movie since there is a lot more to choose from"
   ]
  },
  {
   "cell_type": "code",
   "execution_count": 32,
   "id": "c38bcd42",
   "metadata": {},
   "outputs": [
    {
     "data": {
      "image/png": "[encoded data removed]",
      "text/plain": [
       "<Figure size 1440x720 with 1 Axes>"
      ]
     },
     "metadata": {},
     "output_type": "display_data"
    }
   ],
   "source": [
    "plt.figure(figsize=(20,10))\n",
    "sns.countplot(data= titles_import, y= 'release_year', hue='type')\n",
    "plt.ylim(20,65)\n",
    "plt.title('How many movies/shows are released each year?')\n",
    "plt.show()"
   ]
  },
  {
   "cell_type": "markdown",
   "id": "132f3185",
   "metadata": {},
   "source": [
    "### Analysis:\n",
    "\n",
    "+ Since the 1980's there have been certain a trend a year in year increase in production in movies with little production of tv shows.\n",
    "+ From the year 2000 there was an exponential increase in production of both movies and tv shows. \n",
    "+ Last 7 years have seen more movies than tv shows however, this production levels have increase drastically since 10 years before that.\n"
   ]
  },
  {
   "cell_type": "code",
   "execution_count": 45,
   "id": "e8514aef",
   "metadata": {},
   "outputs": [
    {
     "data": {
      "image/png": "[encoded data removed]",
      "text/plain": [
       "<Figure size 1296x720 with 1 Axes>"
      ]
     },
     "metadata": {
      "needs_background": "light"
     },
     "output_type": "display_data"
    }
   ],
   "source": [
    "# To have a better visibility of our data, we used the `figsize` argument to increase the size of the plot. \n",
    "fig, ax = plt.subplots(figsize=(18,10))\n",
    "\n",
    "scatter = ax.scatter(titles_import['runtime'], titles_import['imdb_score'], alpha=0.8)\n",
    "\n",
    "# Set graph and axis titles\n",
    "plt.title('Scatter Plot Showing the Runtime vs Imdb Score \\n')\n",
    "plt.xlabel('Run Time (mins)')\n",
    "plt.ylabel('Imdb Score')\n",
    "\n",
    "plt.show()"
   ]
  },
  {
   "cell_type": "markdown",
   "id": "b7c2fde7",
   "metadata": {},
   "source": [
    "### Analysis\n",
    "\n",
    "It can be inferred that you have a lot more ratings from movies/shows with run time below 150 minutes, higher ratings concentration below 100 minutes."
   ]
  },
  {
   "cell_type": "markdown",
   "id": "c412c3f5",
   "metadata": {},
   "source": [
    "## Conclusion\n",
    "\n",
    "+ Netflix do have good ratings for movies/shows with short runtime.\n",
    "+ We can see from the scattered graph that there are alot more ratings for movies/shows within between 36 and 116 minutes.\n",
    "\n",
    " \n"
   ]
  },
  {
   "attachments": {
    "f48d9e8b2202257780c1411b403633b3.png": {
     "image/png": "[encoded data removed]"
    }
   },
   "cell_type": "markdown",
   "id": "20084c5a",
   "metadata": {},
   "source": [
    "![f48d9e8b2202257780c1411b403633b3.png](attachment:f48d9e8b2202257780c1411b403633b3.png)"
   ]
  }
 ],
 "metadata": {
  "kernelspec": {
   "display_name": "Python 3 (ipykernel)",
   "language": "python",
   "name": "python3"
  },
  "language_info": {
   "codemirror_mode": {
    "name": "ipython",
    "version": 3
   },
   "file_extension": ".py",
   "mimetype": "text/x-python",
   "name": "python",
   "nbconvert_exporter": "python",
   "pygments_lexer": "ipython3",
   "version": "3.9.12"
  }
 },
 "nbformat": 4,
 "nbformat_minor": 5
}
